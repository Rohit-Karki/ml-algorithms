{
  "cells": [
    {
      "cell_type": "markdown",
      "metadata": {
        "colab_type": "text",
        "id": "JFXZug066bJX"
      },
      "source": [
        "# Upload files in Google Colab\n",
        "If you are running this Jupyter Notebook on Google Colab, run this cell to upload the data files (train_inputs.csv, train_labels.csv, test_inputs.csv, test_labels.csv) in the Colab virtual machine.  You will be prompted to select files that you would like to upload. \n",
        "\n",
        "If you are running this Jupyter Notebook on your computer, you do not need to run this cell."
      ]
    },
    {
      "cell_type": "code",
      "execution_count": 2,
      "metadata": {
        "colab": {},
        "colab_type": "code",
        "id": "dqBJV_Br4XeI"
      },
      "outputs": [],
      "source": [
        "# from google.colab import files\n",
        "# uploaded = files.upload()\n",
        "# %ls"
      ]
    },
    {
      "cell_type": "markdown",
      "metadata": {
        "colab_type": "text",
        "id": "LZDpxE4jmFwA"
      },
      "source": [
        "# Import libraries \n",
        "Do not use any other Python library."
      ]
    },
    {
      "cell_type": "code",
      "execution_count": 3,
      "metadata": {
        "colab": {},
        "colab_type": "code",
        "id": "m_1d0BPfmacB"
      },
      "outputs": [],
      "source": [
        "import numpy as np\n",
        "import matplotlib.pyplot as plt"
      ]
    },
    {
      "cell_type": "markdown",
      "metadata": {
        "colab_type": "text",
        "id": "NYesJygrmgHM"
      },
      "source": [
        "# Function: load_knn_data\n",
        "\n",
        "This function loads the data for KNN from a local drive into RAM\n",
        "\n",
        "Outputs:\n",
        "\n",
        "*   **train_inputs**: numpy array of N training data points x M features\n",
        "*   **train_labels**: numpy array of N training labels\n",
        "*   **test_inputs**: numpy array of N' test data points x M features\n",
        "*   **test_labels**: numpy array of N' test labels\n",
        "\n",
        "\n",
        "\n",
        "\n",
        "  \n",
        "\n"
      ]
    },
    {
      "cell_type": "code",
      "execution_count": 4,
      "metadata": {
        "colab": {},
        "colab_type": "code",
        "id": "7goFIgwnomoo"
      },
      "outputs": [],
      "source": [
        "def load_knn_data():\n",
        "  test_inputs = np.genfromtxt('./data/testData.csv', delimiter=',')\n",
        "  test_labels = np.genfromtxt('./data/testLabels.csv', delimiter=',')\n",
        "  train_inputs = np.genfromtxt('./data/trainData1.csv', delimiter=',')\n",
        "  train_labels = np.genfromtxt('./data/trainLabels1.csv', delimiter=',')\n",
        "  return train_inputs, train_labels, test_inputs, test_labels"
      ]
    },
    {
      "cell_type": "markdown",
      "metadata": {
        "colab_type": "text",
        "id": "Y87Mnf21owf0"
      },
      "source": [
        "# Function: predict_knn\n",
        "\n",
        "This function uses the KNN classifier to predict the label of a data point.\n",
        "\n",
        "Inputs:\n",
        "*   **x**: input data point for which we want to predict the label (numpy array of M features)\n",
        "*   **inputs**: matrix of data points in which neighbours will be found (numpy array of N data points x M features)\n",
        "*   **labels**: vector of labels associated with the data points  (numpy array of N labels)\n",
        "*   **k_neighbours**: # of nearest neighbours that will be used\n",
        "\n",
        "Output:\n",
        "*   **predicted_label**: predicted label (integer)\n",
        "\n",
        "\n"
      ]
    },
    {
      "cell_type": "code",
      "execution_count": 5,
      "metadata": {
        "colab": {},
        "colab_type": "code",
        "id": "MNXK7L5wpOEa"
      },
      "outputs": [],
      "source": [
        "def euclideanDistance(x1, x2):\n",
        "  return np.linalg.norm(x1 - x2)\n",
        "\n",
        "def predict_knn(x, inputs, labels, k_neighbours):\n",
        "  # compute the distances between all the data points\n",
        "  distances = [euclideanDistance(x,x_train) for x_train in inputs]\n",
        "  \n",
        "  k_indices = np.argsort(distances)[k_neighbours]\n",
        "\n",
        "  k_nearest_labels = [labels[i] for i in k_indices] \n",
        "  \n",
        "  predicted_label = k_nearest_labels[0]\n",
        "  return predicted_label"
      ]
    },
    {
      "cell_type": "markdown",
      "metadata": {
        "colab_type": "text",
        "id": "I7bIamtprLxK"
      },
      "source": [
        "# Function: eval_knn\n",
        "\n",
        "Function that evaluates the accuracy of the KNN classifier on a dataset.  The dataset to be evaluated consists of (inputs, labels).  The dataset used to find nearest neighbours consists of (train_inputs, train_labels).\n",
        "\n",
        "Inputs:\n",
        "*   **inputs**: matrix of input data points to be evaluated (numpy array of N data points x M features)\n",
        "*   **labels**: vector of target labels for the inputs (numpy array of N labels)\n",
        "*   **train_inputs**: matrix of input data points in which neighbours will be found (numpy array of N' data points x M features)\n",
        "*   **train_labels**: vector of labels for the training inputs (numpy array of N' labels)\n",
        "*   **k_neighbours**: # of nearest neighbours to be used (integer)\n",
        "\n",
        "Outputs:\n",
        "*   **accuracy**: percentage of correctly labeled data points (float)\n",
        "\n",
        "\n"
      ]
    },
    {
      "cell_type": "code",
      "execution_count": 6,
      "metadata": {
        "colab": {},
        "colab_type": "code",
        "id": "MCQe7L8XrjdI"
      },
      "outputs": [],
      "source": [
        "def eval_knn(inputs, labels, train_inputs, train_labels, k_neighbours):\n",
        "    n_correct = 0\n",
        "    for i in range(len(inputs)):\n",
        "        x = inputs[i]\n",
        "        label = labels[i]\n",
        "        predicted_label = predict_knn(\n",
        "            x, train_inputs, train_labels, k_neighbours)\n",
        "        if predicted_label == label:\n",
        "            n_correct += 1\n",
        "\n",
        "    accuracy = n_correct / len(inputs) * 100\n",
        "    return accuracy"
      ]
    },
    {
      "cell_type": "markdown",
      "metadata": {
        "colab_type": "text",
        "id": "rXNO9nXb1beV"
      },
      "source": [
        "# Function: cross_validation_knn\n",
        "\n",
        "This function performs k-fold cross validation to determine the best number of neighbours for KNN.\n",
        "\n",
        "Inputs:\n",
        "*   **k_folds**: # of folds in cross-validation (integer)\n",
        "*   **hyperparameters**: list of hyperparameters where each hyperparameter is a different # of neighbours (list of integers)\n",
        "*   **inputs**: matrix of data points to be used when searching for neighbours (numpy array of N data points by M features)\n",
        "*   **labels**: vector of labels associated with the inputs (numpy array of N labels)\n",
        "\n",
        "Outputs:\n",
        "*   **best_hyperparam**: best # of neighbours for KNN (integer)\n",
        "*   **best_accuracy**: accuracy achieved with best_hyperparam (float)\n",
        "*   **accuracies**: vector of accuracies for the corresponding hyperparameters (numpy array of floats)\n",
        "\n",
        "\n",
        "\n"
      ]
    },
    {
      "cell_type": "code",
      "execution_count": 14,
      "metadata": {
        "colab": {},
        "colab_type": "code",
        "id": "VpHnYR3x1mFZ"
      },
      "outputs": [],
      "source": [
        "from models.KNN import KNN\n",
        "k_to_accuracies = {}\n",
        "k_to_average_accuracy = {}\n",
        "\n",
        "\n",
        "def LoadDataset(i, N):\n",
        "    flag = True  # turn false after we encounter the first training set\n",
        "    for j in range(i, N):\n",
        "        # construct training and validation set\n",
        "        data = np.loadtxt('./data/trainData' + str(j) + '.csv',\n",
        "                          delimiter=',', dtype='int')\n",
        "        label = np.loadtxt('./data/trainLabels' + str(j) +\n",
        "                           '.csv', delimiter=',', dtype='int')\n",
        "        if i == j:\n",
        "            validationData = data\n",
        "            validationLabel = label\n",
        "        elif flag:\n",
        "            trainingData = data\n",
        "            trainingLabel = label\n",
        "            flag = False\n",
        "        else:\n",
        "            trainingData = np.concatenate((trainingData, data))\n",
        "            trainingLabel = np.concatenate((trainingLabel, label))\n",
        "    return trainingData, trainingLabel, validationData, validationLabel\n",
        "\n",
        "\n",
        "def cross_validation_knn(k_folds, hyperparameters, inputs, labels):\n",
        "    for i in range(1, k_folds):\n",
        "        trainingData, trainingLabel, validationData, validationLabel = LoadDataset(\n",
        "            i, k_folds+1)        \n",
        "        knn = KNN()\n",
        "        knn.train(trainingData, trainingLabel)\n",
        "\n",
        "        for k in hyperparameters:\n",
        "            predict_labels = knn.predict(validationData, k=k)\n",
        "            accuracy = np.mean(predict_labels == validationLabel)\n",
        "            k_to_accuracies.setdefault(k, []).append(accuracy)\n",
        "        \n",
        "    for k in sorted(k_to_accuracies):\n",
        "        sum_accuracy = 0\n",
        "        for accuracy in k_to_accuracies[k]:\n",
        "            sum_accuracy += accuracy\n",
        "        average_accuracy = sum_accuracy / k_folds\n",
        "        k_to_average_accuracy.setdefault(k, []).append(average_accuracy)\n",
        "        # print('k = %d, average accuracy = %f' % (k, average_accuracy))\n",
        "    \n",
        "    print(k_to_accuracies)\n",
        "    print(k_to_average_accuracy)\n",
        "    # for i, (k, v) in enumerate(k_to_accuracies):\n",
        "    #     print(v)\n",
        "        # top_accuracies = np.max(v)\n",
        "    \n",
        "    # print(top_accuracies)\n",
        "    accuracies = 0\n",
        "\n",
        "    best_hyperparam = 0\n",
        "\n",
        "    best_accuracy = 0\n",
        "\n",
        "\n",
        "    return best_hyperparam, best_accuracy, accuracies"
      ]
    },
    {
      "cell_type": "markdown",
      "metadata": {
        "colab_type": "text",
        "id": "qb31YTWg4rSm"
      },
      "source": [
        "# Function: plot_knn_accuracies\n",
        "\n",
        "Function that plots the KNN accuracies for different # of neighbours (hyperparameters) based on cross validation\n",
        "\n",
        "Inputs:\n",
        "*   **accuracies**: vector of accuracies for the corresponding hyperparameters (numpy array of floats)\n",
        "*   **hyperparams**: list of hyperparameters where each hyperparameter is a different # of neighbours (list of integers)\n"
      ]
    },
    {
      "cell_type": "code",
      "execution_count": 8,
      "metadata": {
        "colab": {},
        "colab_type": "code",
        "id": "MpbE_-Yt5HiI"
      },
      "outputs": [],
      "source": [
        "def plot_knn_accuracies(accuracies,hyperparams):\n",
        "  plt.plot(hyperparams,accuracies)\n",
        "  plt.ylabel('accuracy')\n",
        "  plt.xlabel('k neighbours')\n",
        "  plt.show()  "
      ]
    },
    {
      "cell_type": "markdown",
      "metadata": {},
      "source": []
    },
    {
      "cell_type": "markdown",
      "metadata": {
        "colab_type": "text",
        "id": "iF2YiZnMaws8"
      },
      "source": [
        "# Main KNN code\n",
        "\n",
        "Load data.\n",
        "Use k-fold cross validation to find the best # of neighbours for KNN.\n",
        "Plot accuracies for different # of neighbours.\n",
        "Test KNN with the best # of neighbours."
      ]
    },
    {
      "cell_type": "code",
      "execution_count": 15,
      "metadata": {
        "colab": {},
        "colab_type": "code",
        "id": "Qw6MLmQ8bpA1"
      },
      "outputs": [
        {
          "name": "stdout",
          "output_type": "stream",
          "text": [
            "{1: [0.45, 0.59, 0.5, 0.47, 0.48, 0.6, 0.49, 0.45, 0.47], 2: [0.45, 0.59, 0.5, 0.47, 0.48, 0.6, 0.49, 0.45, 0.47], 3: [0.44, 0.52, 0.47, 0.39, 0.48, 0.59, 0.49, 0.45, 0.45], 4: [0.43, 0.55, 0.5, 0.43, 0.49, 0.61, 0.48, 0.43, 0.49], 5: [0.47, 0.53, 0.48, 0.42, 0.48, 0.47, 0.55, 0.48, 0.47], 6: [0.44, 0.58, 0.46, 0.45, 0.48, 0.51, 0.53, 0.47, 0.45], 7: [0.39, 0.57, 0.47, 0.46, 0.48, 0.5, 0.59, 0.45, 0.54], 8: [0.4, 0.56, 0.5, 0.46, 0.45, 0.55, 0.52, 0.49, 0.53], 9: [0.43, 0.53, 0.49, 0.42, 0.45, 0.51, 0.56, 0.51, 0.57], 10: [0.46, 0.57, 0.49, 0.42, 0.45, 0.54, 0.58, 0.51, 0.54], 11: [0.47, 0.52, 0.5, 0.44, 0.42, 0.43, 0.56, 0.52, 0.46], 12: [0.48, 0.55, 0.5, 0.44, 0.4, 0.48, 0.55, 0.49, 0.47], 13: [0.43, 0.52, 0.52, 0.47, 0.39, 0.44, 0.55, 0.51, 0.45], 14: [0.45, 0.5, 0.51, 0.46, 0.42, 0.46, 0.54, 0.48, 0.45], 15: [0.44, 0.47, 0.49, 0.48, 0.41, 0.44, 0.56, 0.52, 0.44], 16: [0.45, 0.52, 0.46, 0.41, 0.39, 0.53, 0.54, 0.48, 0.4], 17: [0.47, 0.53, 0.47, 0.44, 0.37, 0.46, 0.54, 0.5, 0.4], 18: [0.48, 0.52, 0.49, 0.44, 0.4, 0.51, 0.57, 0.47, 0.41], 19: [0.47, 0.52, 0.51, 0.46, 0.37, 0.45, 0.55, 0.48, 0.41]}\n",
            "{1: [0.45], 2: [0.45], 3: [0.42800000000000005], 4: [0.441], 5: [0.43499999999999994], 6: [0.437], 7: [0.445], 8: [0.446], 9: [0.44700000000000006], 10: [0.45600000000000007], 11: [0.43200000000000005], 12: [0.43600000000000005], 13: [0.42800000000000005], 14: [0.42699999999999994], 15: [0.425], 16: [0.418], 17: [0.418], 18: [0.429], 19: [0.422]}\n"
          ]
        },
        {
          "ename": "ValueError",
          "evalue": "x and y must have same first dimension, but have shapes (19,) and (1,)",
          "output_type": "error",
          "traceback": [
            "\u001b[1;31m---------------------------------------------------------------------------\u001b[0m",
            "\u001b[1;31mValueError\u001b[0m                                Traceback (most recent call last)",
            "Cell \u001b[1;32mIn[15], line 10\u001b[0m\n\u001b[0;32m      7\u001b[0m best_k_neighbours, best_accuracy, accuracies \u001b[38;5;241m=\u001b[39m cross_validation_knn(k_folds, hyperparams, train_inputs, train_labels);\n\u001b[0;32m      9\u001b[0m \u001b[38;5;66;03m# plot results\u001b[39;00m\n\u001b[1;32m---> 10\u001b[0m \u001b[43mplot_knn_accuracies\u001b[49m\u001b[43m(\u001b[49m\u001b[43maccuracies\u001b[49m\u001b[43m,\u001b[49m\u001b[43m \u001b[49m\u001b[43mhyperparams\u001b[49m\u001b[43m)\u001b[49m\n\u001b[0;32m     11\u001b[0m \u001b[38;5;66;03m# print('best # of neighbours k: ' + str(best_k_neighbours))\u001b[39;00m\n\u001b[0;32m     12\u001b[0m \u001b[38;5;66;03m# print('best cross validation accuracy: ' + str(best_accuracy))\u001b[39;00m\n\u001b[0;32m     13\u001b[0m \n\u001b[0;32m     14\u001b[0m \u001b[38;5;66;03m# # evaluate with best # of neighbours\u001b[39;00m\n\u001b[0;32m     15\u001b[0m \u001b[38;5;66;03m# accuracy = eval_knn(test_inputs, test_labels, train_inputs, train_labels, best_k_neighbours)\u001b[39;00m\n\u001b[0;32m     16\u001b[0m \u001b[38;5;66;03m# print('test accuracy: '+ str(accuracy))\u001b[39;00m\n",
            "Cell \u001b[1;32mIn[8], line 2\u001b[0m, in \u001b[0;36mplot_knn_accuracies\u001b[1;34m(accuracies, hyperparams)\u001b[0m\n\u001b[0;32m      1\u001b[0m \u001b[38;5;28;01mdef\u001b[39;00m \u001b[38;5;21mplot_knn_accuracies\u001b[39m(accuracies,hyperparams):\n\u001b[1;32m----> 2\u001b[0m   \u001b[43mplt\u001b[49m\u001b[38;5;241;43m.\u001b[39;49m\u001b[43mplot\u001b[49m\u001b[43m(\u001b[49m\u001b[43mhyperparams\u001b[49m\u001b[43m,\u001b[49m\u001b[43maccuracies\u001b[49m\u001b[43m)\u001b[49m\n\u001b[0;32m      3\u001b[0m   plt\u001b[38;5;241m.\u001b[39mylabel(\u001b[38;5;124m'\u001b[39m\u001b[38;5;124maccuracy\u001b[39m\u001b[38;5;124m'\u001b[39m)\n\u001b[0;32m      4\u001b[0m   plt\u001b[38;5;241m.\u001b[39mxlabel(\u001b[38;5;124m'\u001b[39m\u001b[38;5;124mk neighbours\u001b[39m\u001b[38;5;124m'\u001b[39m)\n",
            "File \u001b[1;32mc:\\Python310\\lib\\site-packages\\matplotlib\\pyplot.py:2812\u001b[0m, in \u001b[0;36mplot\u001b[1;34m(scalex, scaley, data, *args, **kwargs)\u001b[0m\n\u001b[0;32m   2810\u001b[0m \u001b[38;5;129m@_copy_docstring_and_deprecators\u001b[39m(Axes\u001b[38;5;241m.\u001b[39mplot)\n\u001b[0;32m   2811\u001b[0m \u001b[38;5;28;01mdef\u001b[39;00m \u001b[38;5;21mplot\u001b[39m(\u001b[38;5;241m*\u001b[39margs, scalex\u001b[38;5;241m=\u001b[39m\u001b[38;5;28;01mTrue\u001b[39;00m, scaley\u001b[38;5;241m=\u001b[39m\u001b[38;5;28;01mTrue\u001b[39;00m, data\u001b[38;5;241m=\u001b[39m\u001b[38;5;28;01mNone\u001b[39;00m, \u001b[38;5;241m*\u001b[39m\u001b[38;5;241m*\u001b[39mkwargs):\n\u001b[1;32m-> 2812\u001b[0m     \u001b[38;5;28;01mreturn\u001b[39;00m gca()\u001b[38;5;241m.\u001b[39mplot(\n\u001b[0;32m   2813\u001b[0m         \u001b[38;5;241m*\u001b[39margs, scalex\u001b[38;5;241m=\u001b[39mscalex, scaley\u001b[38;5;241m=\u001b[39mscaley,\n\u001b[0;32m   2814\u001b[0m         \u001b[38;5;241m*\u001b[39m\u001b[38;5;241m*\u001b[39m({\u001b[38;5;124m\"\u001b[39m\u001b[38;5;124mdata\u001b[39m\u001b[38;5;124m\"\u001b[39m: data} \u001b[38;5;28;01mif\u001b[39;00m data \u001b[38;5;129;01mis\u001b[39;00m \u001b[38;5;129;01mnot\u001b[39;00m \u001b[38;5;28;01mNone\u001b[39;00m \u001b[38;5;28;01melse\u001b[39;00m {}), \u001b[38;5;241m*\u001b[39m\u001b[38;5;241m*\u001b[39mkwargs)\n",
            "File \u001b[1;32mc:\\Python310\\lib\\site-packages\\matplotlib\\axes\\_axes.py:1688\u001b[0m, in \u001b[0;36mAxes.plot\u001b[1;34m(self, scalex, scaley, data, *args, **kwargs)\u001b[0m\n\u001b[0;32m   1445\u001b[0m \u001b[38;5;250m\u001b[39m\u001b[38;5;124;03m\"\"\"\u001b[39;00m\n\u001b[0;32m   1446\u001b[0m \u001b[38;5;124;03mPlot y versus x as lines and/or markers.\u001b[39;00m\n\u001b[0;32m   1447\u001b[0m \n\u001b[1;32m   (...)\u001b[0m\n\u001b[0;32m   1685\u001b[0m \u001b[38;5;124;03m(``'green'``) or hex strings (``'#008000'``).\u001b[39;00m\n\u001b[0;32m   1686\u001b[0m \u001b[38;5;124;03m\"\"\"\u001b[39;00m\n\u001b[0;32m   1687\u001b[0m kwargs \u001b[38;5;241m=\u001b[39m cbook\u001b[38;5;241m.\u001b[39mnormalize_kwargs(kwargs, mlines\u001b[38;5;241m.\u001b[39mLine2D)\n\u001b[1;32m-> 1688\u001b[0m lines \u001b[38;5;241m=\u001b[39m [\u001b[38;5;241m*\u001b[39m\u001b[38;5;28mself\u001b[39m\u001b[38;5;241m.\u001b[39m_get_lines(\u001b[38;5;241m*\u001b[39margs, data\u001b[38;5;241m=\u001b[39mdata, \u001b[38;5;241m*\u001b[39m\u001b[38;5;241m*\u001b[39mkwargs)]\n\u001b[0;32m   1689\u001b[0m \u001b[38;5;28;01mfor\u001b[39;00m line \u001b[38;5;129;01min\u001b[39;00m lines:\n\u001b[0;32m   1690\u001b[0m     \u001b[38;5;28mself\u001b[39m\u001b[38;5;241m.\u001b[39madd_line(line)\n",
            "File \u001b[1;32mc:\\Python310\\lib\\site-packages\\matplotlib\\axes\\_base.py:311\u001b[0m, in \u001b[0;36m_process_plot_var_args.__call__\u001b[1;34m(self, data, *args, **kwargs)\u001b[0m\n\u001b[0;32m    309\u001b[0m     this \u001b[38;5;241m+\u001b[39m\u001b[38;5;241m=\u001b[39m args[\u001b[38;5;241m0\u001b[39m],\n\u001b[0;32m    310\u001b[0m     args \u001b[38;5;241m=\u001b[39m args[\u001b[38;5;241m1\u001b[39m:]\n\u001b[1;32m--> 311\u001b[0m \u001b[38;5;28;01myield from\u001b[39;00m \u001b[38;5;28;43mself\u001b[39;49m\u001b[38;5;241;43m.\u001b[39;49m\u001b[43m_plot_args\u001b[49m\u001b[43m(\u001b[49m\n\u001b[0;32m    312\u001b[0m \u001b[43m    \u001b[49m\u001b[43mthis\u001b[49m\u001b[43m,\u001b[49m\u001b[43m \u001b[49m\u001b[43mkwargs\u001b[49m\u001b[43m,\u001b[49m\u001b[43m \u001b[49m\u001b[43mambiguous_fmt_datakey\u001b[49m\u001b[38;5;241;43m=\u001b[39;49m\u001b[43mambiguous_fmt_datakey\u001b[49m\u001b[43m)\u001b[49m\n",
            "File \u001b[1;32mc:\\Python310\\lib\\site-packages\\matplotlib\\axes\\_base.py:504\u001b[0m, in \u001b[0;36m_process_plot_var_args._plot_args\u001b[1;34m(self, tup, kwargs, return_kwargs, ambiguous_fmt_datakey)\u001b[0m\n\u001b[0;32m    501\u001b[0m     \u001b[38;5;28mself\u001b[39m\u001b[38;5;241m.\u001b[39maxes\u001b[38;5;241m.\u001b[39myaxis\u001b[38;5;241m.\u001b[39mupdate_units(y)\n\u001b[0;32m    503\u001b[0m \u001b[38;5;28;01mif\u001b[39;00m x\u001b[38;5;241m.\u001b[39mshape[\u001b[38;5;241m0\u001b[39m] \u001b[38;5;241m!=\u001b[39m y\u001b[38;5;241m.\u001b[39mshape[\u001b[38;5;241m0\u001b[39m]:\n\u001b[1;32m--> 504\u001b[0m     \u001b[38;5;28;01mraise\u001b[39;00m \u001b[38;5;167;01mValueError\u001b[39;00m(\u001b[38;5;124mf\u001b[39m\u001b[38;5;124m\"\u001b[39m\u001b[38;5;124mx and y must have same first dimension, but \u001b[39m\u001b[38;5;124m\"\u001b[39m\n\u001b[0;32m    505\u001b[0m                      \u001b[38;5;124mf\u001b[39m\u001b[38;5;124m\"\u001b[39m\u001b[38;5;124mhave shapes \u001b[39m\u001b[38;5;132;01m{\u001b[39;00mx\u001b[38;5;241m.\u001b[39mshape\u001b[38;5;132;01m}\u001b[39;00m\u001b[38;5;124m and \u001b[39m\u001b[38;5;132;01m{\u001b[39;00my\u001b[38;5;241m.\u001b[39mshape\u001b[38;5;132;01m}\u001b[39;00m\u001b[38;5;124m\"\u001b[39m)\n\u001b[0;32m    506\u001b[0m \u001b[38;5;28;01mif\u001b[39;00m x\u001b[38;5;241m.\u001b[39mndim \u001b[38;5;241m>\u001b[39m \u001b[38;5;241m2\u001b[39m \u001b[38;5;129;01mor\u001b[39;00m y\u001b[38;5;241m.\u001b[39mndim \u001b[38;5;241m>\u001b[39m \u001b[38;5;241m2\u001b[39m:\n\u001b[0;32m    507\u001b[0m     \u001b[38;5;28;01mraise\u001b[39;00m \u001b[38;5;167;01mValueError\u001b[39;00m(\u001b[38;5;124mf\u001b[39m\u001b[38;5;124m\"\u001b[39m\u001b[38;5;124mx and y can be no greater than 2D, but have \u001b[39m\u001b[38;5;124m\"\u001b[39m\n\u001b[0;32m    508\u001b[0m                      \u001b[38;5;124mf\u001b[39m\u001b[38;5;124m\"\u001b[39m\u001b[38;5;124mshapes \u001b[39m\u001b[38;5;132;01m{\u001b[39;00mx\u001b[38;5;241m.\u001b[39mshape\u001b[38;5;132;01m}\u001b[39;00m\u001b[38;5;124m and \u001b[39m\u001b[38;5;132;01m{\u001b[39;00my\u001b[38;5;241m.\u001b[39mshape\u001b[38;5;132;01m}\u001b[39;00m\u001b[38;5;124m\"\u001b[39m)\n",
            "\u001b[1;31mValueError\u001b[0m: x and y must have same first dimension, but have shapes (19,) and (1,)"
          ]
        },
        {
          "data": {
            "image/png": "[encoded data removed]",
            "text/plain": [
              "<Figure size 640x480 with 1 Axes>"
            ]
          },
          "metadata": {},
          "output_type": "display_data"
        }
      ],
      "source": [
        "# load data\n",
        "train_inputs, train_labels, test_inputs, test_labels = load_knn_data()\n",
        "\n",
        "# number of neighbours to be evaluated by cross validation\n",
        "hyperparams = range(1,31)\n",
        "k_folds = 10\n",
        "best_k_neighbours, best_accuracy, accuracies = cross_validation_knn(k_folds, hyperparams, train_inputs, train_labels);\n",
        "\n",
        "# plot results\n",
        "# plot_knn_accuracies(accuracies, hyperparams)\n",
        "# print('best # of neighbours k: ' + str(best_k_neighbours))\n",
        "# print('best cross validation accuracy: ' + str(best_accuracy))\n",
        "\n",
        "# # evaluate with best # of neighbours\n",
        "# accuracy = eval_knn(test_inputs, test_labels, train_inputs, train_labels, best_k_neighbours)\n",
        "# print('test accuracy: '+ str(accuracy))"
      ]
    }
  ],
  "metadata": {
    "colab": {
      "name": "cs480_fall20_asst1_knn_skeleton.ipynb",
      "provenance": []
    },
    "kernelspec": {
      "display_name": "Python 3",
      "name": "python3"
    },
    "language_info": {
      "codemirror_mode": {
        "name": "ipython",
        "version": 3
      },
      "file_extension": ".py",
      "mimetype": "text/x-python",
      "name": "python",
      "nbconvert_exporter": "python",
      "pygments_lexer": "ipython3",
      "version": "3.10.8"
    }
  },
  "nbformat": 4,
  "nbformat_minor": 0
}
