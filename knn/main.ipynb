{
  "cells": [
    {
      "cell_type": "markdown",
      "metadata": {
        "colab_type": "text",
        "id": "JFXZug066bJX"
      },
      "source": [
        "# Upload files in Google Colab\n",
        "If you are running this Jupyter Notebook on Google Colab, run this cell to upload the data files (train_inputs.csv, train_labels.csv, test_inputs.csv, test_labels.csv) in the Colab virtual machine.  You will be prompted to select files that you would like to upload. \n",
        "\n",
        "If you are running this Jupyter Notebook on your computer, you do not need to run this cell."
      ]
    },
    {
      "cell_type": "code",
      "execution_count": null,
      "metadata": {
        "colab": {},
        "colab_type": "code",
        "id": "dqBJV_Br4XeI"
      },
      "outputs": [],
      "source": [
        "# from google.colab import files\n",
        "# uploaded = files.upload()\n",
        "# %ls"
      ]
    },
    {
      "cell_type": "markdown",
      "metadata": {
        "colab_type": "text",
        "id": "LZDpxE4jmFwA"
      },
      "source": [
        "# Import libraries \n",
        "Do not use any other Python library."
      ]
    },
    {
      "cell_type": "code",
      "execution_count": null,
      "metadata": {
        "colab": {},
        "colab_type": "code",
        "id": "m_1d0BPfmacB"
      },
      "outputs": [],
      "source": [
        "import numpy as np\n",
        "import matplotlib.pyplot as plt"
      ]
    },
    {
      "cell_type": "markdown",
      "metadata": {
        "colab_type": "text",
        "id": "NYesJygrmgHM"
      },
      "source": [
        "# Function: load_knn_data\n",
        "\n",
        "This function loads the data for KNN from a local drive into RAM\n",
        "\n",
        "Outputs:\n",
        "\n",
        "*   **train_inputs**: numpy array of N training data points x M features\n",
        "*   **train_labels**: numpy array of N training labels\n",
        "*   **test_inputs**: numpy array of N' test data points x M features\n",
        "*   **test_labels**: numpy array of N' test labels\n",
        "\n",
        "\n",
        "\n",
        "\n",
        "  \n",
        "\n"
      ]
    },
    {
      "cell_type": "code",
      "execution_count": null,
      "metadata": {
        "colab": {},
        "colab_type": "code",
        "id": "7goFIgwnomoo"
      },
      "outputs": [],
      "source": [
        "def load_knn_data():\n",
        "  test_inputs = np.genfromtxt('./data/testData.csv', delimiter=',')\n",
        "  test_labels = np.genfromtxt('./data/testLabels.csv', delimiter=',')\n",
        "  train_inputs = np.genfromtxt('./data/trainData1.csv', delimiter=',')\n",
        "  train_labels = np.genfromtxt('./data/trainLabels1.csv', delimiter=',')\n",
        "  return train_inputs, train_labels, test_inputs, test_labels"
      ]
    },
    {
      "cell_type": "markdown",
      "metadata": {
        "colab_type": "text",
        "id": "Y87Mnf21owf0"
      },
      "source": [
        "# Function: predict_knn\n",
        "\n",
        "This function uses the KNN classifier to predict the label of a data point.\n",
        "\n",
        "Inputs:\n",
        "*   **x**: input data point for which we want to predict the label (numpy array of M features)\n",
        "*   **inputs**: matrix of data points in which neighbours will be found (numpy array of N data points x M features)\n",
        "*   **labels**: vector of labels associated with the data points  (numpy array of N labels)\n",
        "*   **k_neighbours**: # of nearest neighbours that will be used\n",
        "\n",
        "Output:\n",
        "*   **predicted_label**: predicted label (integer)\n",
        "\n",
        "\n"
      ]
    },
    {
      "cell_type": "code",
      "execution_count": null,
      "metadata": {
        "colab": {},
        "colab_type": "code",
        "id": "MNXK7L5wpOEa"
      },
      "outputs": [],
      "source": [
        "from collections import Counter\n",
        "def euclideanDistance(x1, x2):\n",
        "  return np.linalg.norm(x1 - x2)\n",
        "\n",
        "\n",
        "\n",
        "\n",
        "def predict_knn(x, inputs, labels, k_neighbours):\n",
        "\n",
        "\n",
        "\n",
        "  # compute the distances between all the data points\n",
        "\n",
        "\n",
        "\n",
        "  distances = np.sqrt(np.sum((inputs - x) ** 2, axis=1))\n",
        "  sorted_indices = np.argsort(distances)\n",
        "  k_nearest_indices = sorted_indices[:k_neighbours]\n",
        "  k_nearest_labels = labels[k_nearest_indices]\n",
        "  # predicted_label = np.bincount(k_nearest_labels).argmax()\n",
        "  predicted_label =  Counter(k_nearest_labels).most_common()\n",
        "  return predicted_label[0][0]"
      ]
    },
    {
      "cell_type": "markdown",
      "metadata": {
        "colab_type": "text",
        "id": "I7bIamtprLxK"
      },
      "source": [
        "# Function: eval_knn\n",
        "\n",
        "Function that evaluates the accuracy of the KNN classifier on a dataset.  The dataset to be evaluated consists of (inputs, labels).  The dataset used to find nearest neighbours consists of (train_inputs, train_labels).\n",
        "\n",
        "Inputs:\n",
        "*   **inputs**: matrix of input data points to be evaluated (numpy array of N data points x M features)\n",
        "*   **labels**: vector of target labels for the inputs (numpy array of N labels)\n",
        "*   **train_inputs**: matrix of input data points in which neighbours will be found (numpy array of N' data points x M features)\n",
        "*   **train_labels**: vector of labels for the training inputs (numpy array of N' labels)\n",
        "*   **k_neighbours**: # of nearest neighbours to be used (integer)\n",
        "\n",
        "Outputs:\n",
        "*   **accuracy**: percentage of correctly labeled data points (float)\n",
        "\n",
        "\n"
      ]
    },
    {
      "cell_type": "code",
      "execution_count": null,
      "metadata": {
        "colab": {},
        "colab_type": "code",
        "id": "MCQe7L8XrjdI"
      },
      "outputs": [],
      "source": [
        "def eval_knn(inputs, labels, train_inputs, train_labels, k_neighbours):\n",
        "    n_correct = 0\n",
        "    for i in range(len(inputs)):\n",
        "        x = inputs[i]\n",
        "        label = labels[i]\n",
        "        predicted_label = predict_knn(\n",
        "            x, train_inputs, train_labels, k_neighbours)\n",
        "        if predicted_label == label:\n",
        "            n_correct += 1\n",
        "\n",
        "    accuracy = n_correct / len(inputs) * 100\n",
        "    return accuracy"
      ]
    },
    {
      "cell_type": "markdown",
      "metadata": {
        "colab_type": "text",
        "id": "rXNO9nXb1beV"
      },
      "source": [
        "# Function: cross_validation_knn\n",
        "\n",
        "This function performs k-fold cross validation to determine the best number of neighbours for KNN.\n",
        "\n",
        "Inputs:\n",
        "*   **k_folds**: # of folds in cross-validation (integer)\n",
        "*   **hyperparameters**: list of hyperparameters where each hyperparameter is a different # of neighbours (list of integers)\n",
        "*   **inputs**: matrix of data points to be used when searching for neighbours (numpy array of N data points by M features)\n",
        "*   **labels**: vector of labels associated with the inputs (numpy array of N labels)\n",
        "\n",
        "Outputs:\n",
        "*   **best_hyperparam**: best # of neighbours for KNN (integer)\n",
        "*   **best_accuracy**: accuracy achieved with best_hyperparam (float)\n",
        "*   **accuracies**: vector of accuracies for the corresponding hyperparameters (numpy array of floats)\n",
        "\n",
        "\n",
        "\n"
      ]
    },
    {
      "cell_type": "code",
      "execution_count": null,
      "metadata": {
        "colab": {},
        "colab_type": "code",
        "id": "VpHnYR3x1mFZ"
      },
      "outputs": [],
      "source": [
        "from models.KNN import KNN\n",
        "k_to_accuracies = {}\n",
        "k_to_average_accuracy = {}\n",
        "\n",
        "\n",
        "\n",
        "def cross_validation_knn(k_folds, hyperparameters, inputs, labels):\n",
        "    n_samples = inputs.shape[0]\n",
        "    accuracies = np.zeros(len(hyperparameters))\n",
        "\n",
        "    # Create folds indices\n",
        "    fold_size = n_samples // k_folds\n",
        "    indices = np.arange(n_samples)\n",
        "    np.random.seed(42)\n",
        "    np.random.shuffle(indices)\n",
        "    folds = np.array_split(indices, k_folds)\n",
        "\n",
        "    for i, k_neighbors in enumerate(hyperparameters):\n",
        "        fold_accuracies = []\n",
        "        for fold in folds:\n",
        "            val_indices = fold\n",
        "            train_indices = np.concatenate([fold_idx for fold_idx in folds if fold_idx is not fold])\n",
        "\n",
        "            X_train, y_train = inputs[train_indices], labels[train_indices]\n",
        "            X_val, y_val = inputs[val_indices], labels[val_indices]\n",
        "\n",
        "            accuracy = eval_knn(X_val, y_val, X_train, y_train, k_neighbors)\n",
        "            fold_accuracies.append(accuracy)\n",
        "\n",
        "        accuracies[i] = np.mean(fold_accuracies)\n",
        "        print(accuracies[i])\n",
        "\n",
        "    best_hyperparam = hyperparameters[np.argmax(accuracies)]\n",
        "    best_accuracy = np.max(accuracies)\n",
        "    return best_hyperparam, best_accuracy, accuracies\n",
        "\n"
      ]
    },
    {
      "cell_type": "markdown",
      "metadata": {
        "colab_type": "text",
        "id": "qb31YTWg4rSm"
      },
      "source": [
        "# Function: plot_knn_accuracies\n",
        "\n",
        "Function that plots the KNN accuracies for different # of neighbours (hyperparameters) based on cross validation\n",
        "\n",
        "Inputs:\n",
        "*   **accuracies**: vector of accuracies for the corresponding hyperparameters (numpy array of floats)\n",
        "*   **hyperparams**: list of hyperparameters where each hyperparameter is a different # of neighbours (list of integers)\n"
      ]
    },
    {
      "cell_type": "code",
      "execution_count": null,
      "metadata": {
        "colab": {},
        "colab_type": "code",
        "id": "MpbE_-Yt5HiI"
      },
      "outputs": [],
      "source": [
        "def plot_knn_accuracies(accuracies,hyperparams):\n",
        "  plt.plot(hyperparams,accuracies)\n",
        "  plt.ylabel('accuracy')\n",
        "  plt.xlabel('k neighbours')\n",
        "  plt.show()  "
      ]
    },
    {
      "cell_type": "markdown",
      "metadata": {},
      "source": []
    },
    {
      "cell_type": "markdown",
      "metadata": {
        "colab_type": "text",
        "id": "iF2YiZnMaws8"
      },
      "source": [
        "# Main KNN code\n",
        "\n",
        "Load data.\n",
        "Use k-fold cross validation to find the best # of neighbours for KNN.\n",
        "Plot accuracies for different # of neighbours.\n",
        "Test KNN with the best # of neighbours."
      ]
    },
    {
      "cell_type": "code",
      "execution_count": 33,
      "metadata": {
        "colab": {},
        "colab_type": "code",
        "id": "Qw6MLmQ8bpA1"
      },
      "outputs": [
        {
          "name": "stdout",
          "output_type": "stream",
          "text": [
            "72.0\n",
            "72.0\n",
            "70.0\n",
            "75.0\n",
            "69.0\n",
            "72.0\n",
            "68.0\n",
            "73.0\n",
            "74.0\n",
            "72.0\n",
            "68.0\n",
            "71.0\n",
            "69.0\n",
            "74.0\n",
            "67.0\n",
            "70.0\n",
            "65.0\n",
            "67.0\n",
            "67.0\n",
            "74.0\n",
            "65.0\n",
            "67.0\n",
            "64.0\n",
            "67.0\n",
            "59.0\n",
            "63.0\n",
            "56.0\n",
            "59.0\n",
            "53.0\n",
            "56.0\n"
          ]
        },
        {
          "data": {
            "image/png": "[encoded data removed]",
            "text/plain": [
              "<Figure size 640x480 with 1 Axes>"
            ]
          },
          "metadata": {},
          "output_type": "display_data"
        },
        {
          "name": "stdout",
          "output_type": "stream",
          "text": [
            "best # of neighbours k: 4\n",
            "best cross validation accuracy: 75.0\n",
            "test accuracy: 73.63636363636363\n"
          ]
        }
      ],
      "source": [
        "# load data\n",
        "train_inputs, train_labels, test_inputs, test_labels = load_knn_data()\n",
        "\n",
        "# number of neighbours to be evaluated by cross validation\n",
        "hyperparams = range(1,31)\n",
        "k_folds = 10\n",
        "best_k_neighbours, best_accuracy, accuracies = cross_validation_knn(k_folds, hyperparams, train_inputs, train_labels);\n",
        "\n",
        "# plot results\n",
        "plot_knn_accuracies(accuracies, hyperparams)\n",
        "print('best # of neighbours k: ' + str(best_k_neighbours))\n",
        "print('best cross validation accuracy: ' + str(best_accuracy))\n",
        "\n",
        "# # evaluate with best # of neighbours\n",
        "accuracy = eval_knn(test_inputs, test_labels, train_inputs, train_labels, best_k_neighbours)\n",
        "print('test accuracy: '+ str(accuracy))"
      ]
    }
  ],
  "metadata": {
    "colab": {
      "name": "cs480_fall20_asst1_knn_skeleton.ipynb",
      "provenance": []
    },
    "kernelspec": {
      "display_name": "Python 3",
      "name": "python3"
    },
    "language_info": {
      "codemirror_mode": {
        "name": "ipython",
        "version": 3
      },
      "file_extension": ".py",
      "mimetype": "text/x-python",
      "name": "python",
      "nbconvert_exporter": "python",
      "pygments_lexer": "ipython3",
      "version": "3.10.8"
    }
  },
  "nbformat": 4,
  "nbformat_minor": 0
}
